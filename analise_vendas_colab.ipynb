{
 "cells": [
  {
   "cell_type": "markdown",
   "id": "78b1be69",
   "metadata": {},
   "source": [
    "# 📊 Análise Exploratória de Dados de Vendas\n",
    "\n",
    "Este notebook realiza uma análise exploratória de um conjunto de dados fictício de vendas. O objetivo é demonstrar etapas típicas de análise de dados, como:\n",
    "\n",
    "- Geração e visualização de dados\n",
    "- Limpeza e transformação\n",
    "- Geração de insights\n",
    "\n",
    "---"
   ]
  },
  {
   "cell_type": "code",
   "execution_count": null,
   "id": "c6edfd6d",
   "metadata": {},
   "outputs": [],
   "source": [
    "# 📦 Instalar bibliotecas necessárias\n",
    "!pip install pandas matplotlib seaborn"
   ]
  },
  {
   "cell_type": "markdown",
   "id": "e41b06d3",
   "metadata": {},
   "source": [
    "## 📚 Importação das Bibliotecas"
   ]
  },
  {
   "cell_type": "code",
   "execution_count": null,
   "id": "0c2730b7",
   "metadata": {},
   "outputs": [],
   "source": [
    "import pandas as pd\n",
    "import numpy as np\n",
    "import seaborn as sns\n",
    "import matplotlib.pyplot as plt\n",
    "\n",
    "sns.set(style=\"whitegrid\")"
   ]
  },
  {
   "cell_type": "markdown",
   "id": "1ddadc5e",
   "metadata": {},
   "source": [
    "## 🧪 Geração de Dados Fictícios\n",
    "\n",
    "Vamos simular um dataset de vendas com colunas como:\n",
    "- Data da Venda\n",
    "- Produto\n",
    "- Categoria\n",
    "- Quantidade\n",
    "- Preço Unitário\n",
    "- Região"
   ]
  },
  {
   "cell_type": "code",
   "execution_count": null,
   "id": "dc3b37fa",
   "metadata": {},
   "outputs": [],
   "source": [
    "# Semente para reprodutibilidade\n",
    "np.random.seed(42)\n",
    "num_rows = 200\n",
    "\n",
    "produtos = ['Notebook', 'Mouse', 'Teclado', 'Monitor', 'Impressora']\n",
    "categorias = ['Informática', 'Acessórios', 'Periféricos']\n",
    "regioes = ['Sul', 'Sudeste', 'Centro-Oeste', 'Norte', 'Nordeste']\n",
    "\n",
    "# Geração do DataFrame\n",
    "df = pd.DataFrame({\n",
    "    'Data da Venda': pd.date_range(start='2024-01-01', periods=num_rows, freq='D'),\n",
    "    'Produto': np.random.choice(produtos, num_rows),\n",
    "    'Categoria': np.random.choice(categorias, num_rows),\n",
    "    'Quantidade': np.random.randint(1, 10, num_rows),\n",
    "    'Preço Unitário': np.random.uniform(100, 1500, num_rows).round(2),\n",
    "    'Região': np.random.choice(regioes, num_rows)\n",
    "})\n",
    "\n",
    "df.head()"
   ]
  },
  {
   "cell_type": "markdown",
   "id": "75336a69",
   "metadata": {},
   "source": [
    "## 🧼 Limpeza e Pré-processamento\n",
    "\n",
    "Vamos criar uma nova coluna `Faturamento` e remover dados ausentes."
   ]
  },
  {
   "cell_type": "code",
   "execution_count": null,
   "id": "f73a9a5c",
   "metadata": {},
   "outputs": [],
   "source": [
    "df.dropna(inplace=True)\n",
    "df['Faturamento'] = df['Quantidade'] * df['Preço Unitário']\n",
    "df.head()"
   ]
  },
  {
   "cell_type": "markdown",
   "id": "f0bf7b3f",
   "metadata": {},
   "source": [
    "## 📈 Visualizações\n",
    "\n",
    "### 1. Faturamento por Categoria"
   ]
  },
  {
   "cell_type": "code",
   "execution_count": null,
   "id": "af034605",
   "metadata": {},
   "outputs": [],
   "source": [
    "plt.figure(figsize=(8, 5))\n",
    "sns.barplot(data=df.groupby('Categoria')['Faturamento'].sum().reset_index(),\n",
    "            x='Categoria', y='Faturamento', palette='viridis')\n",
    "plt.title('Faturamento por Categoria')\n",
    "plt.xticks(rotation=45)\n",
    "plt.tight_layout()\n",
    "plt.show()"
   ]
  },
  {
   "cell_type": "markdown",
   "id": "45c468b2",
   "metadata": {},
   "source": [
    "### 2. Faturamento por Região"
   ]
  },
  {
   "cell_type": "code",
   "execution_count": null,
   "id": "6c678aef",
   "metadata": {},
   "outputs": [],
   "source": [
    "plt.figure(figsize=(8, 5))\n",
    "sns.barplot(data=df.groupby('Região')['Faturamento'].sum().reset_index(),\n",
    "            x='Região', y='Faturamento', palette='magma')\n",
    "plt.title('Faturamento por Região')\n",
    "plt.xticks(rotation=45)\n",
    "plt.tight_layout()\n",
    "plt.show()"
   ]
  },
  {
   "cell_type": "markdown",
   "id": "7ace4f9b",
   "metadata": {},
   "source": [
    "### 3. Tendência de Faturamento ao Longo do Tempo"
   ]
  },
  {
   "cell_type": "code",
   "execution_count": null,
   "id": "f01c5767",
   "metadata": {},
   "outputs": [],
   "source": [
    "df_grouped = df.groupby('Data da Venda')['Faturamento'].sum().reset_index()\n",
    "\n",
    "plt.figure(figsize=(10, 5))\n",
    "sns.lineplot(data=df_grouped, x='Data da Venda', y='Faturamento', color='dodgerblue')\n",
    "plt.title('Tendência de Faturamento Diário')\n",
    "plt.tight_layout()\n",
    "plt.show()"
   ]
  },
  {
   "cell_type": "markdown",
   "id": "87abe825",
   "metadata": {},
   "source": [
    "## ✅ Conclusões\n",
    "\n",
    "- A categoria com maior faturamento pode indicar foco de vendas.\n",
    "- Regiões com menor desempenho podem ser analisadas para melhoria.\n",
    "- A tendência de vendas ajuda a prever sazonalidades.\n",
    "\n",
    "---\n",
    "\n",
    "Criado por Anderson SIlva • Projeto de aperfeiçoamento"
   ]
  }
 ],
 "metadata": {},
 "nbformat": 4,
 "nbformat_minor": 5
}
